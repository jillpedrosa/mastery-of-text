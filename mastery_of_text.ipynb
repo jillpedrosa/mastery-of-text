{
 "cells": [
  {
   "cell_type": "code",
   "execution_count": 1,
   "id": "0c2d6fb4-96fa-4a00-b294-bb26f2fe66d6",
   "metadata": {},
   "outputs": [
    {
     "name": "stdout",
     "output_type": "stream",
     "text": [
      "Number of lines: 99968\n",
      "Number of words: 824538\n",
      "Number of occurrences of 'apostle': 113\n",
      "Most common word: the\n"
     ]
    }
   ],
   "source": [
    "import urllib.request\n",
    "\n",
    "# Download text\n",
    "url = 'https://www.gutenberg.org/cache/epub/10/pg10.txt'\n",
    "with urllib.request.urlopen(url) as response:\n",
    "    pg10 = response.read().decode('utf-8')\n",
    "\n",
    "# Number of lines in the string\n",
    "lines = pg10.count('\\n')\n",
    "print(f\"Number of lines: {lines}\")\n",
    "\n",
    "# Number of words in the string\n",
    "words = len(pg10.split())\n",
    "print(f\"Number of words: {words}\")\n",
    "\n",
    "# Number of occurrences of the word \"apostle\" (case-insensitive)\n",
    "apostle_count = pg10.lower().count('apostle')\n",
    "print(f\"Number of occurrences of 'apostle': {apostle_count}\")\n",
    "\n",
    "# Most common word (case-insensitive)\n",
    "word_counts = {}\n",
    "for word in pg10.lower().split():\n",
    "    word = ''.join(char for char in word if char.isalpha())\n",
    "    if word:\n",
    "        word_counts[word] = word_counts.get(word, 0) + 1\n",
    "most_common_word = max(word_counts, key=word_counts.get)\n",
    "print(f\"Most common word: {most_common_word}\")"
   ]
  },
  {
   "cell_type": "code",
   "execution_count": null,
   "id": "926d8be2-b694-4aa4-a7f6-bfea11de96fb",
   "metadata": {},
   "outputs": [],
   "source": []
  }
 ],
 "metadata": {
  "kernelspec": {
   "display_name": "Python 3 (ipykernel)",
   "language": "python",
   "name": "python3"
  },
  "language_info": {
   "codemirror_mode": {
    "name": "ipython",
    "version": 3
   },
   "file_extension": ".py",
   "mimetype": "text/x-python",
   "name": "python",
   "nbconvert_exporter": "python",
   "pygments_lexer": "ipython3",
   "version": "3.11.7"
  }
 },
 "nbformat": 4,
 "nbformat_minor": 5
}
